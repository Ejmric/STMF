{
 "cells": [
  {
   "cell_type": "code",
   "execution_count": 1,
   "metadata": {},
   "outputs": [
    {
     "name": "stderr",
     "output_type": "stream",
     "text": [
      "/home/amra/miniconda3/envs/NMF_vs_TMF/lib/python3.6/site-packages/nimfa/examples/cbcl_images.py:98: UserWarning: PIL must be installed to run CBCL images example.\n",
      "  warn(\"PIL must be installed to run CBCL images example.\")\n",
      "/home/amra/miniconda3/envs/NMF_vs_TMF/lib/python3.6/site-packages/nimfa/examples/orl_images.py:110: UserWarning: PIL must be installed to run ORL images example.\n",
      "  warn(\"PIL must be installed to run ORL images example.\")\n"
     ]
    }
   ],
   "source": [
    "import numpy as np\n",
    "import copy\n",
    "import numpy.ma as ma\n",
    "import csv\n",
    "import matplotlib.pyplot as plt\n",
    "from sklearn.metrics import mean_squared_error\n",
    "from sklearn.metrics import silhouette_score\n",
    "import time\n",
    "from sklearn import cluster\n",
    "import nimfa  # non-negative matrix factorization\n",
    "from statistics import median, mean\n",
    "\n",
    "#functions\n",
    "def save_approx(name_of_the_list, approx, i):\n",
    "    if i == 3:  # save only approx rank 3\n",
    "        name_of_the_list.append(approx)\n",
    "\n",
    "import sys\n",
    "sys.path.append(\"..\")\n",
    "import utils as ut\n",
    "import distance_correlation as dc\n",
    "import STMF as stmf  # sparse tropical matrix factorization"
   ]
  },
  {
   "cell_type": "code",
   "execution_count": 2,
   "metadata": {},
   "outputs": [
    {
     "name": "stdout",
     "output_type": "stream",
     "text": [
      "(450, 100)\n"
     ]
    }
   ],
   "source": [
    "m = 450 # patients  \n",
    "n = 100 # genes  \n",
    "missing_value = 0  # 99 is better than 0, because 0 can be the real value in data; we set missing value to be\n",
    "# 0 since NMF skips 0s!\n",
    "epsilon = 0.0000001\n",
    "temp = 4  # 11\n",
    "repeat = 5  # 5\n",
    "max_iter = 500\n",
    "sparsity = 0.2  # 20%\n",
    "init = 'nndsvd'  # random, random_c, random_vcol, nndsvd\n",
    "init_stmf = 'random_vcol'\n",
    "folder_name = \"SKCM\"\n",
    "\n",
    "# importing data\n",
    "original_data = np.genfromtxt('../multi_omic/SKCM/SKCM_gene_subset.txt', delimiter='\\t').T\n",
    "original_data = np.delete(original_data, 0, axis=0)\n",
    "original_data = np.delete(original_data, 0, axis=1)\n",
    "\n",
    "# feature agglomeration columns\n",
    "agglo = cluster.FeatureAgglomeration(n_clusters=100)\n",
    "agglo.fit(original_data)\n",
    "original_data = agglo.transform(original_data)\n",
    "\n",
    "# polo rows\n",
    "original_data, _, _ = ut.polo_clustering(original_data)\n",
    "\n",
    "original_data += epsilon  \n",
    "ut.check_zeros(original_data)\n",
    "data = copy.deepcopy(original_data)\n",
    "\n",
    "data = ut.create_matrix_with_missing_values(data, sparsity, missing_value)  # create matrix with missing values\n",
    "data_missing = copy.deepcopy(data)\n",
    "data = ma.masked_equal(data, missing_value)  # create masked array\n",
    "print(original_data.shape)"
   ]
  },
  {
   "cell_type": "code",
   "execution_count": 3,
   "metadata": {},
   "outputs": [
    {
     "name": "stdout",
     "output_type": "stream",
     "text": [
      "PMF\n"
     ]
    },
    {
     "ename": "MFError",
     "evalue": "'Unrecognized seeding method.'",
     "output_type": "error",
     "traceback": [
      "\u001b[0;31m---------------------------------------------------------------------------\u001b[0m",
      "\u001b[0;31mMFError\u001b[0m                                   Traceback (most recent call last)",
      "\u001b[0;32m<ipython-input-3-e04272026c85>\u001b[0m in \u001b[0;36m<module>\u001b[0;34m\u001b[0m\n\u001b[1;32m      7\u001b[0m     \u001b[0merror_iter\u001b[0m\u001b[0;34m,\u001b[0m \u001b[0mcorr_iter\u001b[0m\u001b[0;34m,\u001b[0m \u001b[0mrmse_iter\u001b[0m \u001b[0;34m=\u001b[0m \u001b[0mnp\u001b[0m\u001b[0;34m.\u001b[0m\u001b[0marray\u001b[0m\u001b[0;34m(\u001b[0m\u001b[0;34m[\u001b[0m\u001b[0;34m]\u001b[0m\u001b[0;34m)\u001b[0m\u001b[0;34m,\u001b[0m \u001b[0mnp\u001b[0m\u001b[0;34m.\u001b[0m\u001b[0marray\u001b[0m\u001b[0;34m(\u001b[0m\u001b[0;34m[\u001b[0m\u001b[0;34m]\u001b[0m\u001b[0;34m)\u001b[0m\u001b[0;34m,\u001b[0m \u001b[0mnp\u001b[0m\u001b[0;34m.\u001b[0m\u001b[0marray\u001b[0m\u001b[0;34m(\u001b[0m\u001b[0;34m[\u001b[0m\u001b[0;34m]\u001b[0m\u001b[0;34m)\u001b[0m\u001b[0;34m\u001b[0m\u001b[0;34m\u001b[0m\u001b[0m\n\u001b[1;32m      8\u001b[0m     \u001b[0mcorrelations\u001b[0m\u001b[0;34m,\u001b[0m \u001b[0mapproximations\u001b[0m \u001b[0;34m=\u001b[0m \u001b[0;34m[\u001b[0m\u001b[0;34m]\u001b[0m\u001b[0;34m,\u001b[0m \u001b[0;34m[\u001b[0m\u001b[0;34m]\u001b[0m\u001b[0;34m\u001b[0m\u001b[0;34m\u001b[0m\u001b[0m\n\u001b[0;32m----> 9\u001b[0;31m     \u001b[0mmodel\u001b[0m \u001b[0;34m=\u001b[0m \u001b[0mnimfa\u001b[0m\u001b[0;34m.\u001b[0m\u001b[0mPmf\u001b[0m\u001b[0;34m(\u001b[0m\u001b[0mdata\u001b[0m\u001b[0;34m,\u001b[0m \u001b[0mrank\u001b[0m\u001b[0;34m=\u001b[0m\u001b[0mi\u001b[0m\u001b[0;34m,\u001b[0m \u001b[0mmax_iter\u001b[0m\u001b[0;34m=\u001b[0m\u001b[0mmax_iter\u001b[0m\u001b[0;34m,\u001b[0m \u001b[0mseed\u001b[0m\u001b[0;34m=\u001b[0m\u001b[0;34m\"init\"\u001b[0m\u001b[0;34m)\u001b[0m\u001b[0;34m\u001b[0m\u001b[0;34m\u001b[0m\u001b[0m\n\u001b[0m\u001b[1;32m     10\u001b[0m     \u001b[0mstart_time_pmf\u001b[0m \u001b[0;34m=\u001b[0m \u001b[0mtime\u001b[0m\u001b[0;34m.\u001b[0m\u001b[0mtime\u001b[0m\u001b[0;34m(\u001b[0m\u001b[0;34m)\u001b[0m\u001b[0;34m\u001b[0m\u001b[0;34m\u001b[0m\u001b[0m\n\u001b[1;32m     11\u001b[0m     \u001b[0mpmf\u001b[0m \u001b[0;34m=\u001b[0m \u001b[0mmodel\u001b[0m\u001b[0;34m(\u001b[0m\u001b[0;34m)\u001b[0m\u001b[0;34m\u001b[0m\u001b[0;34m\u001b[0m\u001b[0m\n",
      "\u001b[0;32m~/miniconda3/envs/NMF_vs_TMF/lib/python3.6/site-packages/nimfa/methods/factorization/pmf.py\u001b[0m in \u001b[0;36m__init__\u001b[0;34m(self, V, seed, W, H, rank, max_iter, min_residuals, test_conv, n_run, callback, callback_init, track_factor, track_error, rel_error, **options)\u001b[0m\n\u001b[1;32m    124\u001b[0m         \u001b[0mself\u001b[0m\u001b[0;34m.\u001b[0m\u001b[0mname\u001b[0m \u001b[0;34m=\u001b[0m \u001b[0;34m\"pmf\"\u001b[0m\u001b[0;34m\u001b[0m\u001b[0;34m\u001b[0m\u001b[0m\n\u001b[1;32m    125\u001b[0m         \u001b[0mself\u001b[0m\u001b[0;34m.\u001b[0m\u001b[0maseeds\u001b[0m \u001b[0;34m=\u001b[0m \u001b[0;34m[\u001b[0m\u001b[0;34m\"random\"\u001b[0m\u001b[0;34m,\u001b[0m \u001b[0;34m\"fixed\"\u001b[0m\u001b[0;34m,\u001b[0m \u001b[0;34m\"nndsvd\"\u001b[0m\u001b[0;34m,\u001b[0m \u001b[0;34m\"random_c\"\u001b[0m\u001b[0;34m,\u001b[0m \u001b[0;34m\"random_vcol\"\u001b[0m\u001b[0;34m]\u001b[0m\u001b[0;34m\u001b[0m\u001b[0;34m\u001b[0m\u001b[0m\n\u001b[0;32m--> 126\u001b[0;31m         \u001b[0mnmf_std\u001b[0m\u001b[0;34m.\u001b[0m\u001b[0mNmf_std\u001b[0m\u001b[0;34m.\u001b[0m\u001b[0m__init__\u001b[0m\u001b[0;34m(\u001b[0m\u001b[0mself\u001b[0m\u001b[0;34m,\u001b[0m \u001b[0mvars\u001b[0m\u001b[0;34m(\u001b[0m\u001b[0;34m)\u001b[0m\u001b[0;34m)\u001b[0m\u001b[0;34m\u001b[0m\u001b[0;34m\u001b[0m\u001b[0m\n\u001b[0m\u001b[1;32m    127\u001b[0m         \u001b[0mself\u001b[0m\u001b[0;34m.\u001b[0m\u001b[0mtracker\u001b[0m \u001b[0;34m=\u001b[0m \u001b[0mmf_track\u001b[0m\u001b[0;34m.\u001b[0m\u001b[0mMf_track\u001b[0m\u001b[0;34m(\u001b[0m\u001b[0;34m)\u001b[0m \u001b[0;32mif\u001b[0m \u001b[0mself\u001b[0m\u001b[0;34m.\u001b[0m\u001b[0mtrack_factor\u001b[0m \u001b[0;32mand\u001b[0m \u001b[0mself\u001b[0m\u001b[0;34m.\u001b[0m\u001b[0mn_run\u001b[0m \u001b[0;34m>\u001b[0m \u001b[0;36m1\u001b[0m\u001b[0;31m \u001b[0m\u001b[0;31m\\\u001b[0m\u001b[0;34m\u001b[0m\u001b[0;34m\u001b[0m\u001b[0m\n\u001b[1;32m    128\u001b[0m                                               \u001b[0;32mor\u001b[0m \u001b[0mself\u001b[0m\u001b[0;34m.\u001b[0m\u001b[0mtrack_error\u001b[0m \u001b[0;32melse\u001b[0m \u001b[0;32mNone\u001b[0m\u001b[0;34m\u001b[0m\u001b[0;34m\u001b[0m\u001b[0m\n",
      "\u001b[0;32m~/miniconda3/envs/NMF_vs_TMF/lib/python3.6/site-packages/nimfa/models/nmf_std.py\u001b[0m in \u001b[0;36m__init__\u001b[0;34m(self, params)\u001b[0m\n\u001b[1;32m     36\u001b[0m         \u001b[0mself\u001b[0m\u001b[0;34m.\u001b[0m\u001b[0mV1\u001b[0m \u001b[0;34m=\u001b[0m \u001b[0;32mNone\u001b[0m\u001b[0;34m\u001b[0m\u001b[0;34m\u001b[0m\u001b[0m\n\u001b[1;32m     37\u001b[0m         \u001b[0mself\u001b[0m\u001b[0;34m.\u001b[0m\u001b[0mH1\u001b[0m \u001b[0;34m=\u001b[0m \u001b[0;32mNone\u001b[0m\u001b[0;34m\u001b[0m\u001b[0;34m\u001b[0m\u001b[0m\n\u001b[0;32m---> 38\u001b[0;31m         \u001b[0mNmf\u001b[0m\u001b[0;34m.\u001b[0m\u001b[0m__init__\u001b[0m\u001b[0;34m(\u001b[0m\u001b[0mself\u001b[0m\u001b[0;34m,\u001b[0m \u001b[0mparams\u001b[0m\u001b[0;34m)\u001b[0m\u001b[0;34m\u001b[0m\u001b[0;34m\u001b[0m\u001b[0m\n\u001b[0m\u001b[1;32m     39\u001b[0m         \u001b[0;32mif\u001b[0m \u001b[0msp\u001b[0m\u001b[0;34m.\u001b[0m\u001b[0misspmatrix\u001b[0m\u001b[0;34m(\u001b[0m\u001b[0mself\u001b[0m\u001b[0;34m.\u001b[0m\u001b[0mV\u001b[0m\u001b[0;34m)\u001b[0m \u001b[0;32mand\u001b[0m \u001b[0;34m(\u001b[0m\u001b[0mself\u001b[0m\u001b[0;34m.\u001b[0m\u001b[0mV\u001b[0m\u001b[0;34m.\u001b[0m\u001b[0mdata\u001b[0m \u001b[0;34m<\u001b[0m \u001b[0;36m0\u001b[0m\u001b[0;34m)\u001b[0m\u001b[0;34m.\u001b[0m\u001b[0many\u001b[0m\u001b[0;34m(\u001b[0m\u001b[0;34m)\u001b[0m \u001b[0;32mor\u001b[0m \u001b[0;32mnot\u001b[0m \u001b[0msp\u001b[0m\u001b[0;34m.\u001b[0m\u001b[0misspmatrix\u001b[0m\u001b[0;34m(\u001b[0m\u001b[0mself\u001b[0m\u001b[0;34m.\u001b[0m\u001b[0mV\u001b[0m\u001b[0;34m)\u001b[0m \u001b[0;32mand\u001b[0m \u001b[0;34m(\u001b[0m\u001b[0mself\u001b[0m\u001b[0;34m.\u001b[0m\u001b[0mV\u001b[0m \u001b[0;34m<\u001b[0m \u001b[0;36m0\u001b[0m\u001b[0;34m)\u001b[0m\u001b[0;34m.\u001b[0m\u001b[0many\u001b[0m\u001b[0;34m(\u001b[0m\u001b[0;34m)\u001b[0m\u001b[0;34m:\u001b[0m\u001b[0;34m\u001b[0m\u001b[0;34m\u001b[0m\u001b[0m\n\u001b[1;32m     40\u001b[0m             \u001b[0;32mraise\u001b[0m \u001b[0mutils\u001b[0m\u001b[0;34m.\u001b[0m\u001b[0mMFError\u001b[0m\u001b[0;34m(\u001b[0m\u001b[0;34m\"The input matrix contains negative elements.\"\u001b[0m\u001b[0;34m)\u001b[0m\u001b[0;34m\u001b[0m\u001b[0;34m\u001b[0m\u001b[0m\n",
      "\u001b[0;32m~/miniconda3/envs/NMF_vs_TMF/lib/python3.6/site-packages/nimfa/models/nmf.py\u001b[0m in \u001b[0;36m__init__\u001b[0;34m(self, params)\u001b[0m\n\u001b[1;32m    112\u001b[0m                 self.H1 = np.asmatrix(self.H1) if self.H1.dtype == np.dtype(\n\u001b[1;32m    113\u001b[0m                     float) else np.asmatrix(self.H1, dtype='d')\n\u001b[0;32m--> 114\u001b[0;31m         \u001b[0mself\u001b[0m\u001b[0;34m.\u001b[0m\u001b[0m_compatibility\u001b[0m\u001b[0;34m(\u001b[0m\u001b[0;34m)\u001b[0m\u001b[0;34m\u001b[0m\u001b[0;34m\u001b[0m\u001b[0m\n\u001b[0m\u001b[1;32m    115\u001b[0m \u001b[0;34m\u001b[0m\u001b[0m\n\u001b[1;32m    116\u001b[0m     \u001b[0;32mdef\u001b[0m \u001b[0m__call__\u001b[0m\u001b[0;34m(\u001b[0m\u001b[0mself\u001b[0m\u001b[0;34m)\u001b[0m\u001b[0;34m:\u001b[0m\u001b[0;34m\u001b[0m\u001b[0;34m\u001b[0m\u001b[0m\n",
      "\u001b[0;32m~/miniconda3/envs/NMF_vs_TMF/lib/python3.6/site-packages/nimfa/models/nmf.py\u001b[0m in \u001b[0;36m_compatibility\u001b[0;34m(self)\u001b[0m\n\u001b[1;32m    592\u001b[0m                 \u001b[0mself\u001b[0m\u001b[0;34m.\u001b[0m\u001b[0mseed\u001b[0m \u001b[0;34m=\u001b[0m \u001b[0mseeding\u001b[0m\u001b[0;34m.\u001b[0m\u001b[0mfixed\u001b[0m\u001b[0;34m.\u001b[0m\u001b[0mFixed\u001b[0m\u001b[0;34m(\u001b[0m\u001b[0;34m)\u001b[0m\u001b[0;34m\u001b[0m\u001b[0;34m\u001b[0m\u001b[0m\n\u001b[1;32m    593\u001b[0m                 \u001b[0mself\u001b[0m\u001b[0;34m.\u001b[0m\u001b[0mseed\u001b[0m\u001b[0;34m.\u001b[0m\u001b[0m_set_fixed\u001b[0m\u001b[0;34m(\u001b[0m\u001b[0mW\u001b[0m\u001b[0;34m=\u001b[0m\u001b[0mW\u001b[0m\u001b[0;34m,\u001b[0m \u001b[0mH\u001b[0m\u001b[0;34m=\u001b[0m\u001b[0mH\u001b[0m\u001b[0;34m,\u001b[0m \u001b[0mH1\u001b[0m\u001b[0;34m=\u001b[0m\u001b[0mH1\u001b[0m\u001b[0;34m)\u001b[0m\u001b[0;34m\u001b[0m\u001b[0;34m\u001b[0m\u001b[0m\n\u001b[0;32m--> 594\u001b[0;31m         \u001b[0mself\u001b[0m\u001b[0;34m.\u001b[0m\u001b[0m__is_smdefined\u001b[0m\u001b[0;34m(\u001b[0m\u001b[0;34m)\u001b[0m\u001b[0;34m\u001b[0m\u001b[0;34m\u001b[0m\u001b[0m\n\u001b[0m\u001b[1;32m    595\u001b[0m         \u001b[0mself\u001b[0m\u001b[0;34m.\u001b[0m\u001b[0m__compatibility\u001b[0m\u001b[0;34m(\u001b[0m\u001b[0;34m)\u001b[0m\u001b[0;34m\u001b[0m\u001b[0;34m\u001b[0m\u001b[0m\n\u001b[1;32m    596\u001b[0m \u001b[0;34m\u001b[0m\u001b[0m\n",
      "\u001b[0;32m~/miniconda3/envs/NMF_vs_TMF/lib/python3.6/site-packages/nimfa/models/nmf.py\u001b[0m in \u001b[0;36m__is_smdefined\u001b[0;34m(self)\u001b[0m\n\u001b[1;32m    601\u001b[0m                 \u001b[0mself\u001b[0m\u001b[0;34m.\u001b[0m\u001b[0mseed\u001b[0m \u001b[0;34m=\u001b[0m \u001b[0mseeding\u001b[0m\u001b[0;34m.\u001b[0m\u001b[0mmethods\u001b[0m\u001b[0;34m[\u001b[0m\u001b[0mself\u001b[0m\u001b[0;34m.\u001b[0m\u001b[0mseed\u001b[0m\u001b[0;34m]\u001b[0m\u001b[0;34m(\u001b[0m\u001b[0;34m)\u001b[0m\u001b[0;34m\u001b[0m\u001b[0;34m\u001b[0m\u001b[0m\n\u001b[1;32m    602\u001b[0m             \u001b[0;32melse\u001b[0m\u001b[0;34m:\u001b[0m\u001b[0;34m\u001b[0m\u001b[0;34m\u001b[0m\u001b[0m\n\u001b[0;32m--> 603\u001b[0;31m                 \u001b[0;32mraise\u001b[0m \u001b[0mutils\u001b[0m\u001b[0;34m.\u001b[0m\u001b[0mMFError\u001b[0m\u001b[0;34m(\u001b[0m\u001b[0;34m\"Unrecognized seeding method.\"\u001b[0m\u001b[0;34m)\u001b[0m\u001b[0;34m\u001b[0m\u001b[0;34m\u001b[0m\u001b[0m\n\u001b[0m\u001b[1;32m    604\u001b[0m         \u001b[0;32melse\u001b[0m\u001b[0;34m:\u001b[0m\u001b[0;34m\u001b[0m\u001b[0;34m\u001b[0m\u001b[0m\n\u001b[1;32m    605\u001b[0m             \u001b[0;32mif\u001b[0m \u001b[0;32mnot\u001b[0m \u001b[0mstr\u001b[0m\u001b[0;34m(\u001b[0m\u001b[0mself\u001b[0m\u001b[0;34m.\u001b[0m\u001b[0mseed\u001b[0m\u001b[0;34m)\u001b[0m\u001b[0;34m.\u001b[0m\u001b[0mlower\u001b[0m\u001b[0;34m(\u001b[0m\u001b[0;34m)\u001b[0m \u001b[0;32min\u001b[0m \u001b[0mseeding\u001b[0m\u001b[0;34m.\u001b[0m\u001b[0mmethods\u001b[0m\u001b[0;34m:\u001b[0m\u001b[0;34m\u001b[0m\u001b[0;34m\u001b[0m\u001b[0m\n",
      "\u001b[0;31mMFError\u001b[0m: 'Unrecognized seeding method.'"
     ]
    }
   ],
   "source": [
    "# PMF\n",
    "print(\"PMF\")\n",
    "errors_pmf, corr_pmf, rmse_pmf, time_pmf = np.array([]), np.array([]), np.array([]), np.array([])\n",
    "approx_pmf = []\n",
    "U_pmf, V_pmf = 0, 0\n",
    "for i in range(1, temp):\n",
    "    error_iter, corr_iter, rmse_iter = np.array([]), np.array([]), np.array([])\n",
    "    correlations, approximations = [], []\n",
    "    model = nimfa.Pmf(data, rank=i, max_iter=max_iter, seed=init)\n",
    "    start_time_pmf = time.time()\n",
    "    pmf = model()\n",
    "    t_pmf = round(time.time() - start_time_pmf, 3)\n",
    "    approx = np.dot(pmf.basis(), pmf.coef(idx=None))\n",
    "    if i == 3:  # rank 3, all approximations of rank 3 are the same since nndsvd is non-randomized\n",
    "        U_pmf = pmf.basis()\n",
    "        V_pmf = pmf.coef(idx=None)\n",
    "    error_iter = np.append(error_iter, ut.rmse(original_data, data_missing, approx, missing_value))\n",
    "    correlation, a, b = dc.dcor(original_data, approx)\n",
    "    if i==3:\n",
    "        print(\"rank \" + str(i) + \": \" + str(correlation))\n",
    "    corr_iter = np.append(corr_iter, correlation)\n",
    "    correlations.append(correlation)\n",
    "    approximations.append(approx)\n",
    "    rmse_iter = np.append(rmse_iter, ut.rmse_approx(original_data, data_missing, approx, missing_value))\n",
    "    save_approx(approx_pmf, approximations[np.argmax(correlations)], i)\n",
    "    errors_pmf, corr_pmf, rmse_pmf, time_pmf = np.append(errors_pmf, error_iter), np.append(corr_pmf, corr_iter), np.append(rmse_pmf, rmse_iter), np.append(time_pmf, t_pmf)"
   ]
  },
  {
   "cell_type": "code",
   "execution_count": 4,
   "metadata": {},
   "outputs": [
    {
     "ename": "IndexError",
     "evalue": "index 2 is out of bounds for axis 0 with size 0",
     "output_type": "error",
     "traceback": [
      "\u001b[0;31m---------------------------------------------------------------------------\u001b[0m",
      "\u001b[0;31mIndexError\u001b[0m                                Traceback (most recent call last)",
      "\u001b[0;32m<ipython-input-4-b730fe856ccb>\u001b[0m in \u001b[0;36m<module>\u001b[0;34m\u001b[0m\n\u001b[0;32m----> 1\u001b[0;31m \u001b[0mtime_pmf\u001b[0m\u001b[0;34m[\u001b[0m\u001b[0;36m2\u001b[0m\u001b[0;34m]\u001b[0m\u001b[0;34m\u001b[0m\u001b[0;34m\u001b[0m\u001b[0m\n\u001b[0m",
      "\u001b[0;31mIndexError\u001b[0m: index 2 is out of bounds for axis 0 with size 0"
     ]
    }
   ],
   "source": [
    "time_pmf[2]"
   ]
  },
  {
   "cell_type": "code",
   "execution_count": 5,
   "metadata": {},
   "outputs": [
    {
     "name": "stdout",
     "output_type": "stream",
     "text": [
      "NMF\n",
      "rank 3: 0.6326968481357254\n",
      "STMF\n",
      "rank 3, max: 0.6045389957503177\n",
      "rank 3, min: 0.4796618945925933\n",
      "rank 3, median: 0.5205018949144797\n"
     ]
    }
   ],
   "source": [
    "# NMF\n",
    "print(\"NMF\")\n",
    "errors_nmf, corr_nmf, rmse_nmf, time_nmf = np.array([]), np.array([]), np.array([]), np.array([])\n",
    "approx_nmf = []\n",
    "U_nmf, V_nmf = 0, 0\n",
    "for i in range(1, temp):\n",
    "    error_iter, corr_iter, rmse_iter = np.array([]), np.array([]), np.array([])\n",
    "    correlations, approximations = [], []\n",
    "    model = nimfa.Nmf(data, rank=i, max_iter=max_iter, seed=init)\n",
    "    start_time_nmf = time.time()\n",
    "    nmf = model()\n",
    "    t_nmf = round(time.time() - start_time_nmf, 3)\n",
    "    approx = np.dot(nmf.basis(), nmf.coef(idx=None))\n",
    "    if i == 3:  # rank 3, all approximations of rank 3 are the same since nndsvd is non-randomized\n",
    "        U_nmf = nmf.basis()\n",
    "        V_nmf = nmf.coef(idx=None)\n",
    "    error_iter = np.append(error_iter, ut.rmse(original_data, data_missing, approx, missing_value))\n",
    "    correlation, a, b = dc.dcor(original_data, approx)\n",
    "    if i==3:\n",
    "        print(\"rank \" + str(i) + \": \" + str(correlation))\n",
    "    corr_iter = np.append(corr_iter, correlation)\n",
    "    correlations.append(correlation)\n",
    "    approximations.append(approx)\n",
    "    rmse_iter = np.append(rmse_iter, ut.rmse_approx(original_data, data_missing, approx, missing_value))\n",
    "    save_approx(approx_nmf, approximations[np.argmax(correlations)], i)\n",
    "    errors_nmf, corr_nmf, rmse_nmf, time_nmf = np.append(errors_nmf, error_iter), np.append(corr_nmf, corr_iter), np.append(rmse_nmf, rmse_iter), np.append(time_nmf, t_nmf)\n",
    "\n",
    "# STMF\n",
    "print(\"STMF\")\n",
    "errors_trop, corr_trop, rmse_trop, time_trop = np.array([]), np.array([]), np.array([]), np.array([])\n",
    "approx_trop = []\n",
    "factor_U, factor_V = [], []\n",
    "U_stmf, V_stmf = 0, 0\n",
    "for i in range(1, temp):\n",
    "    error_iter, corr_iter, rmse_iter, time_iter = np.array([]), np.array([]), np.array([]), np.array([])\n",
    "    correlations, approximations = [], []\n",
    "    for j in range(0, repeat):\n",
    "        model = stmf.STMF(rank=i, criterion='iterations', max_iter=max_iter, initialization=init_stmf)\n",
    "        model.fit(data)\n",
    "        if i == 3:\n",
    "            factor_U.append(model.U)\n",
    "            factor_V.append(model.V)\n",
    "        approx = model.predict_all()\n",
    "        error_iter = np.append(error_iter, ut.rmse(original_data, data_missing, approx, missing_value))\n",
    "        correlation, a, b = dc.dcor(original_data, approx)\n",
    "        corr_iter = np.append(corr_iter, correlation)\n",
    "        time_iter = np.append(time_iter, model.time)\n",
    "        correlations.append(correlation)\n",
    "        approximations.append(approx)\n",
    "        rmse_iter = np.append(rmse_iter, ut.rmse_approx(original_data, data_missing, approx, missing_value))\n",
    "    save_approx(approx_trop, approximations[np.argmax(correlations)], i)\n",
    "    if i==3:\n",
    "        print(\"rank \" + str(i) + \", max: \" + str(max(correlations)))\n",
    "        print(\"rank \" + str(i) + \", min: \" + str(min(correlations)))\n",
    "        print(\"rank \" + str(i) + \", median: \" + str(median(correlations)))\n",
    "    if i == 3:\n",
    "        U_stmf, V_stmf = factor_U[np.argmax(correlations)], factor_V[np.argmax(correlations)]\n",
    "    errors_trop, corr_trop, rmse_trop, time_trop =  np.append(errors_trop, error_iter), np.append(corr_trop, corr_iter), np.append(rmse_trop, rmse_iter), np.append(time_trop, time_iter)"
   ]
  },
  {
   "cell_type": "markdown",
   "metadata": {},
   "source": [
    "### VISUALIZATIONS"
   ]
  },
  {
   "cell_type": "markdown",
   "metadata": {},
   "source": [
    "Approximation matrices"
   ]
  },
  {
   "cell_type": "code",
   "execution_count": 6,
   "metadata": {},
   "outputs": [
    {
     "ename": "IndexError",
     "evalue": "list index out of range",
     "output_type": "error",
     "traceback": [
      "\u001b[0;31m---------------------------------------------------------------------------\u001b[0m",
      "\u001b[0;31mIndexError\u001b[0m                                Traceback (most recent call last)",
      "\u001b[0;32m<ipython-input-6-210ceac8005c>\u001b[0m in \u001b[0;36m<module>\u001b[0;34m\u001b[0m\n\u001b[1;32m      1\u001b[0m \u001b[0mapprox_stmf\u001b[0m \u001b[0;34m=\u001b[0m \u001b[0mapprox_trop\u001b[0m\u001b[0;34m[\u001b[0m\u001b[0;36m0\u001b[0m\u001b[0;34m]\u001b[0m\u001b[0;34m\u001b[0m\u001b[0;34m\u001b[0m\u001b[0m\n\u001b[1;32m      2\u001b[0m \u001b[0mapprox_nmf\u001b[0m \u001b[0;34m=\u001b[0m \u001b[0mapprox_nmf\u001b[0m\u001b[0;34m[\u001b[0m\u001b[0;36m0\u001b[0m\u001b[0;34m]\u001b[0m\u001b[0;34m\u001b[0m\u001b[0;34m\u001b[0m\u001b[0m\n\u001b[0;32m----> 3\u001b[0;31m \u001b[0mapprox_pmf_x\u001b[0m \u001b[0;34m=\u001b[0m \u001b[0mapprox_pmf\u001b[0m\u001b[0;34m[\u001b[0m\u001b[0;36m0\u001b[0m\u001b[0;34m]\u001b[0m\u001b[0;34m\u001b[0m\u001b[0;34m\u001b[0m\u001b[0m\n\u001b[0m\u001b[1;32m      4\u001b[0m \u001b[0mX_maxplus\u001b[0m \u001b[0;34m=\u001b[0m \u001b[0mdata\u001b[0m\u001b[0;34m\u001b[0m\u001b[0;34m\u001b[0m\u001b[0m\n\u001b[1;32m      5\u001b[0m \u001b[0mX_maxplus_orig\u001b[0m \u001b[0;34m=\u001b[0m \u001b[0moriginal_data\u001b[0m\u001b[0;34m\u001b[0m\u001b[0;34m\u001b[0m\u001b[0m\n",
      "\u001b[0;31mIndexError\u001b[0m: list index out of range"
     ]
    }
   ],
   "source": [
    "approx_stmf = approx_trop[0]\n",
    "approx_nmf = approx_nmf[0]\n",
    "approx_pmf_x = approx_pmf[0]\n",
    "X_maxplus = data\n",
    "X_maxplus_orig = original_data"
   ]
  },
  {
   "cell_type": "code",
   "execution_count": 7,
   "metadata": {},
   "outputs": [
    {
     "ename": "NameError",
     "evalue": "name 'X_maxplus_orig' is not defined",
     "output_type": "error",
     "traceback": [
      "\u001b[0;31m---------------------------------------------------------------------------\u001b[0m",
      "\u001b[0;31mNameError\u001b[0m                                 Traceback (most recent call last)",
      "\u001b[0;32m<ipython-input-7-a4898ee12f40>\u001b[0m in \u001b[0;36m<module>\u001b[0;34m\u001b[0m\n\u001b[0;32m----> 1\u001b[0;31m \u001b[0mut\u001b[0m\u001b[0;34m.\u001b[0m\u001b[0mplot_synth_three_methods_origmax\u001b[0m\u001b[0;34m(\u001b[0m\u001b[0mX_maxplus_orig\u001b[0m\u001b[0;34m,\u001b[0m \u001b[0mX_maxplus\u001b[0m\u001b[0;34m,\u001b[0m \u001b[0mapprox_stmf\u001b[0m\u001b[0;34m,\u001b[0m \u001b[0mapprox_nmf\u001b[0m\u001b[0;34m,\u001b[0m \u001b[0mapprox_pmf_x\u001b[0m\u001b[0;34m,\u001b[0m \u001b[0;34m\"\"\u001b[0m\u001b[0;34m,\u001b[0m \u001b[0;34m\"results/\"\u001b[0m \u001b[0;34m+\u001b[0m \u001b[0mfolder_name\u001b[0m \u001b[0;34m+\u001b[0m \u001b[0;34m\"/three_methods.png\"\u001b[0m\u001b[0;34m)\u001b[0m\u001b[0;34m\u001b[0m\u001b[0;34m\u001b[0m\u001b[0m\n\u001b[0m",
      "\u001b[0;31mNameError\u001b[0m: name 'X_maxplus_orig' is not defined"
     ]
    }
   ],
   "source": [
    "ut.plot_synth_three_methods_origmax(X_maxplus_orig, X_maxplus, approx_stmf, approx_nmf, approx_pmf_x, \"\", \"results/\" + folder_name + \"/three_methods.png\")"
   ]
  }
 ],
 "metadata": {
  "kernelspec": {
   "display_name": "Python 3",
   "language": "python",
   "name": "python3"
  },
  "language_info": {
   "codemirror_mode": {
    "name": "ipython",
    "version": 3
   },
   "file_extension": ".py",
   "mimetype": "text/x-python",
   "name": "python",
   "nbconvert_exporter": "python",
   "pygments_lexer": "ipython3",
   "version": "3.7.4"
  }
 },
 "nbformat": 4,
 "nbformat_minor": 2
}
